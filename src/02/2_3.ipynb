{
 "cells": [
  {
   "cell_type": "markdown",
   "metadata": {},
   "source": [
    "#"
   ]
  },
  {
   "cell_type": "markdown",
   "metadata": {},
   "source": [
    "# input layerの入力表現"
   ]
  },
  {
   "cell_type": "markdown",
   "metadata": {},
   "source": [
    "## 流れ\n",
    "\n",
    "1. パッチへ分割\n",
    "   1. 画像をパッチに分割する\n",
    "   2. flattenして、パッチの縦×横×チャンネルの長さのベクトルに変換する\n",
    "2. パッチ埋め込み\n",
    "   1. 1層の線形層で良いベクトルに変換する\n",
    "   2. 良いベクトル:=損失が少ないベクトル\n",
    "3. クラストークンを定義\n",
    "   1. 画像全体の情報を保持する\n",
    "   2. パッチ埋め込みのベクトルの大きさのベクトル\n",
    "   3. 標準正規分布に従った値を設定\n",
    "   4. クラストークンは学習のパラメータ\n",
    "4. 位置埋め込み\n",
    "   1. パッチ埋め込みだけではパッチの位置情報がないため、位置をクラストークンとパッチ埋め込みベクトルに埋め込む\n",
    "   2. 初期値は標準正規分布に従う乱数を設定\n"
   ]
  },
  {
   "cell_type": "markdown",
   "metadata": {},
   "source": [
    "## 数式表現\n",
    "\n",
    "### 1. 入力画像からflattenまで\n",
    "\n",
    "$H$: 画像の高さ（pixel）\n",
    "\n",
    "$W$: 画像の幅（pixel）\n",
    "\n",
    "$C$: 色情報（RGB）\n",
    "\n",
    "$N_p$: パッチの個数 \n",
    "\n",
    "$P$: パッチの縦横のサイズ（pixel）\n",
    "\n",
    "とすると\n",
    "\n",
    "入力画像を\n",
    "\n",
    "> $\\boldsymbol{x} \\in \\mathbb{R}^{H \\times W \\times C}$、\n",
    "\n",
    "\n",
    "flattenした入力画像を\n",
    "\n",
    "> $\\boldsymbol{x_p} \\in \\mathbb{R}^{N_p\\times(P^2 \\cdot C)}$\n",
    "と表せる。\n",
    "\n",
    "flattenした各バッチのベクトルは\n",
    "\n",
    "> $x_p^1, x_p^2, \\dots, x_p^{N_p}$\n",
    "> \n",
    "> と表す。\n",
    "\n",
    "\n",
    "### 2. パッチ埋め込み\n",
    "\n",
    "$D$ を 「$\\boldsymbol{x_p}$ を埋め込んだベクトルの次元」とすると、$\\boldsymbol{x_p}$を埋め込む線形層の重みは\n",
    "\n",
    "> $E \\in \\mathbb{R}^{P^2 \\cdot C} \\times D$ \n",
    "\n",
    "と表せ、各バッチに$E$を適用すると\n",
    "\n",
    "> $x_{p}^i E \\in \\mathbb{R}^D \\quad (i = 1, 2, \\dots, N_p)$ \n",
    "\n",
    "であり、\n",
    "\n",
    "> $x_p E = [ x_p^1 E; x_p^2 E; \\dots, x_p^{N_p} E ] \\in \\mathbb{R}^{N_p \\times D}$\n",
    "\n",
    "である。\n",
    "\n",
    "\n",
    "### 3. クラストークン\n",
    "\n",
    "\n",
    "$x_p E$ にクラストークンを付加する。$x_{class} \\in \\mathbb{R}^D$ を$x_p E$に追加して、\n",
    "\n",
    "> $x_{p+t} E = [ x_{class}; x_p^1E;  x_p^2E; \\dots, x_p^{N_p}E] \\in \\mathbb{R}^{(N_p + 1) \\times D}$\n",
    "\n",
    "である。\n",
    "\n",
    "### 4. 位置埋め込み\n",
    "\n",
    "トークン数を「クラストークン+パッチ数」とすると、トークン数は$N_p + 1$である。\n",
    "\n",
    "位置埋め込みはD次元ベクトルがトークン数、すなわち\n",
    "\n",
    "> $E_{pos} = [E x_{pos}^{class}; E x_{pos}^1; E x_{pos}^2; \\dots; E x_{pos}^{N_p}] \\in \\mathbb{R}^{(N_p + 1) \\times D}$\n",
    "\n",
    "であるから、位置埋め込みしたEncoderへの入力$z_0$は\n",
    "\n",
    "> $z_0 = x_{p+t}E + E_{pos} \\in \\mathbb{R}^{(N_p + 1) \\times D} $\n",
    "\n",
    "である。"
   ]
  },
  {
   "cell_type": "markdown",
   "metadata": {},
   "source": []
  }
 ],
 "metadata": {
  "kernelspec": {
   "display_name": "Python 3.9.7 ('base')",
   "language": "python",
   "name": "python3"
  },
  "language_info": {
   "codemirror_mode": {
    "name": "ipython",
    "version": 3
   },
   "file_extension": ".py",
   "mimetype": "text/x-python",
   "name": "python",
   "nbconvert_exporter": "python",
   "pygments_lexer": "ipython3",
   "version": "3.9.7"
  },
  "orig_nbformat": 4,
  "vscode": {
   "interpreter": {
    "hash": "21a447d43d212849e540c6c38cb6eb2460dc2380e24f4b0de591296981a71bc3"
   }
  }
 },
 "nbformat": 4,
 "nbformat_minor": 2
}
